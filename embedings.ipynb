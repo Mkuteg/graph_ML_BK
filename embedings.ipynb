{
 "cells": [
  {
   "cell_type": "code",
   "execution_count": 1,
   "id": "initial_id",
   "metadata": {
    "collapsed": true,
    "ExecuteTime": {
     "end_time": "2023-11-25T09:28:55.453655Z",
     "start_time": "2023-11-25T09:28:51.613799Z"
    }
   },
   "outputs": [
    {
     "name": "stderr",
     "output_type": "stream",
     "text": [
      "/Users/valentin/PycharmProjects/kaggle/Laptop Name/venv/lib/python3.9/site-packages/urllib3/__init__.py:34: NotOpenSSLWarning: urllib3 v2.0 only supports OpenSSL 1.1.1+, currently the 'ssl' module is compiled with 'LibreSSL 2.8.3'. See: https://github.com/urllib3/urllib3/issues/3020\n",
      "  warnings.warn(\n"
     ]
    }
   ],
   "source": [
    "import re\n",
    "import numpy as np\n",
    "import torch\n",
    "from transformers import AutoTokenizer, AutoModel\n",
    "import pandas as pd\n",
    "from tqdm import tqdm"
   ]
  },
  {
   "cell_type": "code",
   "execution_count": 2,
   "outputs": [],
   "source": [
    "train = pd.read_csv('data/hackaton2023_train.csv')\n",
    "test = pd.read_csv('data/hackaton2023_test.csv')"
   ],
   "metadata": {
    "collapsed": false,
    "ExecuteTime": {
     "end_time": "2023-11-25T09:29:09.036583Z",
     "start_time": "2023-11-25T09:28:55.457077Z"
    }
   },
   "id": "c2ea1e7eb3c2fe37"
  },
  {
   "cell_type": "code",
   "execution_count": 3,
   "outputs": [],
   "source": [
    "union_data = pd.concat([train[['dish_name']], test['dish_name']])"
   ],
   "metadata": {
    "collapsed": false,
    "ExecuteTime": {
     "end_time": "2023-11-25T09:29:09.289359Z",
     "start_time": "2023-11-25T09:29:09.038116Z"
    }
   },
   "id": "15176bdc90b5b1f3"
  },
  {
   "cell_type": "code",
   "execution_count": 4,
   "outputs": [],
   "source": [
    "menu = union_data['dish_name'].value_counts().reset_index()"
   ],
   "metadata": {
    "collapsed": false,
    "ExecuteTime": {
     "end_time": "2023-11-25T09:29:09.710402Z",
     "start_time": "2023-11-25T09:29:09.708127Z"
    }
   },
   "id": "5c9822fb4381856b"
  },
  {
   "cell_type": "code",
   "execution_count": 5,
   "outputs": [],
   "source": [
    "tokenizer = AutoTokenizer.from_pretrained(\"cointegrated/LaBSE-en-ru\")\n",
    "model = AutoModel.from_pretrained(\"cointegrated/LaBSE-en-ru\")"
   ],
   "metadata": {
    "collapsed": false,
    "ExecuteTime": {
     "end_time": "2023-11-25T09:29:12.918178Z",
     "start_time": "2023-11-25T09:29:09.711679Z"
    }
   },
   "id": "61921c6eb7a3fc59"
  },
  {
   "cell_type": "code",
   "execution_count": 6,
   "outputs": [
    {
     "data": {
      "text/plain": "                           dish_name   count                       clean_name\n0                       Кинг Фри мал  680496                     кинг фри мал\n1                   Наггетсы (3 шт.)  639692                    наггетсы 3 шт\n2                     Кинг Фри станд  461873                   кинг фри станд\n3                        Соус Сырный  434150                      соус сырный\n4                       Кинг Фри бол  367213                     кинг фри бол\n..                               ...     ...                              ...\n95  Эвервесс Лемон-Лайм б/л  мал 0,4   22791  эвервесс лемон лайм б л мал 0 4\n96   Эвервесс Блэк Роял стандарт 0,5   22731  эвервесс блэк роял стандарт 0 5\n97                  Креветки (6 шт.)   22478                    креветки 6 шт\n98                    Латте (СТАНД.)   22140                      латте станд\n99                 Up Латте (СТАНД.)   22139                      латте станд\n\n[100 rows x 3 columns]",
      "text/html": "<div>\n<style scoped>\n    .dataframe tbody tr th:only-of-type {\n        vertical-align: middle;\n    }\n\n    .dataframe tbody tr th {\n        vertical-align: top;\n    }\n\n    .dataframe thead th {\n        text-align: right;\n    }\n</style>\n<table border=\"1\" class=\"dataframe\">\n  <thead>\n    <tr style=\"text-align: right;\">\n      <th></th>\n      <th>dish_name</th>\n      <th>count</th>\n      <th>clean_name</th>\n    </tr>\n  </thead>\n  <tbody>\n    <tr>\n      <th>0</th>\n      <td>Кинг Фри мал</td>\n      <td>680496</td>\n      <td>кинг фри мал</td>\n    </tr>\n    <tr>\n      <th>1</th>\n      <td>Наггетсы (3 шт.)</td>\n      <td>639692</td>\n      <td>наггетсы 3 шт</td>\n    </tr>\n    <tr>\n      <th>2</th>\n      <td>Кинг Фри станд</td>\n      <td>461873</td>\n      <td>кинг фри станд</td>\n    </tr>\n    <tr>\n      <th>3</th>\n      <td>Соус Сырный</td>\n      <td>434150</td>\n      <td>соус сырный</td>\n    </tr>\n    <tr>\n      <th>4</th>\n      <td>Кинг Фри бол</td>\n      <td>367213</td>\n      <td>кинг фри бол</td>\n    </tr>\n    <tr>\n      <th>...</th>\n      <td>...</td>\n      <td>...</td>\n      <td>...</td>\n    </tr>\n    <tr>\n      <th>95</th>\n      <td>Эвервесс Лемон-Лайм б/л  мал 0,4</td>\n      <td>22791</td>\n      <td>эвервесс лемон лайм б л мал 0 4</td>\n    </tr>\n    <tr>\n      <th>96</th>\n      <td>Эвервесс Блэк Роял стандарт 0,5</td>\n      <td>22731</td>\n      <td>эвервесс блэк роял стандарт 0 5</td>\n    </tr>\n    <tr>\n      <th>97</th>\n      <td>Креветки (6 шт.)</td>\n      <td>22478</td>\n      <td>креветки 6 шт</td>\n    </tr>\n    <tr>\n      <th>98</th>\n      <td>Латте (СТАНД.)</td>\n      <td>22140</td>\n      <td>латте станд</td>\n    </tr>\n    <tr>\n      <th>99</th>\n      <td>Up Латте (СТАНД.)</td>\n      <td>22139</td>\n      <td>латте станд</td>\n    </tr>\n  </tbody>\n</table>\n<p>100 rows × 3 columns</p>\n</div>"
     },
     "execution_count": 6,
     "metadata": {},
     "output_type": "execute_result"
    }
   ],
   "source": [
    "ru_mask = r'[^а-яА-ЯёЁ0-9]'\n",
    "\n",
    "\n",
    "def clean_text_question(text):\n",
    "    temp = re.sub(ru_mask, ' ', str(text))\n",
    "    temp_2 = \" \".join(temp.split())\n",
    "    return temp_2.lower()\n",
    "\n",
    "\n",
    "menu['clean_name'] = menu['dish_name'].apply(clean_text_question)\n",
    "\n",
    "menu.head(100)"
   ],
   "metadata": {
    "collapsed": false,
    "ExecuteTime": {
     "end_time": "2023-11-25T09:29:12.947400Z",
     "start_time": "2023-11-25T09:29:12.932796Z"
    }
   },
   "id": "60258c9299f63e26"
  },
  {
   "cell_type": "code",
   "execution_count": 7,
   "outputs": [
    {
     "name": "stderr",
     "output_type": "stream",
     "text": [
      "Loading...: 100%|██████████| 1038/1038 [00:44<00:00, 23.11it/s]\n"
     ]
    }
   ],
   "source": [
    "\n",
    "\n",
    "row_emb = []\n",
    "\n",
    "for i in tqdm(range(len(menu['clean_name'])), desc=\"Loading...\"):\n",
    "    sentenses = menu['clean_name'][i]\n",
    "\n",
    "    embeddings_list = []\n",
    "\n",
    "    encoded_input = tokenizer(sentenses, padding=True, truncation=True, max_length=64, return_tensors='pt')\n",
    "    with torch.no_grad():\n",
    "        model_output = model(**encoded_input)\n",
    "    embedding = model_output.pooler_output\n",
    "    embeddings_list.append((embedding)[0].numpy())\n",
    "\n",
    "    row_emb.append(np.asarray(embeddings_list).tolist())"
   ],
   "metadata": {
    "collapsed": false,
    "ExecuteTime": {
     "end_time": "2023-11-25T09:29:57.891826Z",
     "start_time": "2023-11-25T09:29:12.942268Z"
    }
   },
   "id": "cf3ea5179b987e1a"
  },
  {
   "cell_type": "code",
   "execution_count": 8,
   "outputs": [],
   "source": [
    "menu['clean_name_emb_list'] = row_emb"
   ],
   "metadata": {
    "collapsed": false,
    "ExecuteTime": {
     "end_time": "2023-11-25T09:29:57.897614Z",
     "start_time": "2023-11-25T09:29:57.893211Z"
    }
   },
   "id": "fff663713369042a"
  },
  {
   "cell_type": "code",
   "execution_count": 9,
   "outputs": [],
   "source": [
    "menu.to_csv(r'menu_add_list.csv', index=False)"
   ],
   "metadata": {
    "collapsed": false,
    "ExecuteTime": {
     "end_time": "2023-11-25T09:29:58.545907Z",
     "start_time": "2023-11-25T09:29:57.895106Z"
    }
   },
   "id": "7349f4d18a533494"
  },
  {
   "cell_type": "code",
   "execution_count": 10,
   "outputs": [
    {
     "data": {
      "text/plain": "                           dish_name   count                       clean_name  \\\n0                       Кинг Фри мал  680496                     кинг фри мал   \n1                   Наггетсы (3 шт.)  639692                    наггетсы 3 шт   \n2                     Кинг Фри станд  461873                   кинг фри станд   \n3                        Соус Сырный  434150                      соус сырный   \n4                       Кинг Фри бол  367213                     кинг фри бол   \n..                               ...     ...                              ...   \n95  Эвервесс Лемон-Лайм б/л  мал 0,4   22791  эвервесс лемон лайм б л мал 0 4   \n96   Эвервесс Блэк Роял стандарт 0,5   22731  эвервесс блэк роял стандарт 0 5   \n97                  Креветки (6 шт.)   22478                    креветки 6 шт   \n98                    Латте (СТАНД.)   22140                      латте станд   \n99                 Up Латте (СТАНД.)   22139                      латте станд   \n\n                                  clean_name_emb_list  \n0   [[0.32081782817840576, -0.2573021650314331, -0...  \n1   [[0.06622129678726196, -0.06333954632282257, 0...  \n2   [[0.38589462637901306, -0.1891634315252304, -0...  \n3   [[-0.35998520255088806, -0.30130332708358765, ...  \n4   [[0.44841456413269043, -0.371378093957901, -0....  \n..                                                ...  \n95  [[0.08240431547164917, -0.04213714227080345, 0...  \n96  [[0.1579657644033432, -0.06081263720989227, -0...  \n97  [[-0.3648184537887573, 0.17309388518333435, -0...  \n98  [[0.08641330897808075, -0.1510659009218216, 0....  \n99  [[0.08641330897808075, -0.1510659009218216, 0....  \n\n[100 rows x 4 columns]",
      "text/html": "<div>\n<style scoped>\n    .dataframe tbody tr th:only-of-type {\n        vertical-align: middle;\n    }\n\n    .dataframe tbody tr th {\n        vertical-align: top;\n    }\n\n    .dataframe thead th {\n        text-align: right;\n    }\n</style>\n<table border=\"1\" class=\"dataframe\">\n  <thead>\n    <tr style=\"text-align: right;\">\n      <th></th>\n      <th>dish_name</th>\n      <th>count</th>\n      <th>clean_name</th>\n      <th>clean_name_emb_list</th>\n    </tr>\n  </thead>\n  <tbody>\n    <tr>\n      <th>0</th>\n      <td>Кинг Фри мал</td>\n      <td>680496</td>\n      <td>кинг фри мал</td>\n      <td>[[0.32081782817840576, -0.2573021650314331, -0...</td>\n    </tr>\n    <tr>\n      <th>1</th>\n      <td>Наггетсы (3 шт.)</td>\n      <td>639692</td>\n      <td>наггетсы 3 шт</td>\n      <td>[[0.06622129678726196, -0.06333954632282257, 0...</td>\n    </tr>\n    <tr>\n      <th>2</th>\n      <td>Кинг Фри станд</td>\n      <td>461873</td>\n      <td>кинг фри станд</td>\n      <td>[[0.38589462637901306, -0.1891634315252304, -0...</td>\n    </tr>\n    <tr>\n      <th>3</th>\n      <td>Соус Сырный</td>\n      <td>434150</td>\n      <td>соус сырный</td>\n      <td>[[-0.35998520255088806, -0.30130332708358765, ...</td>\n    </tr>\n    <tr>\n      <th>4</th>\n      <td>Кинг Фри бол</td>\n      <td>367213</td>\n      <td>кинг фри бол</td>\n      <td>[[0.44841456413269043, -0.371378093957901, -0....</td>\n    </tr>\n    <tr>\n      <th>...</th>\n      <td>...</td>\n      <td>...</td>\n      <td>...</td>\n      <td>...</td>\n    </tr>\n    <tr>\n      <th>95</th>\n      <td>Эвервесс Лемон-Лайм б/л  мал 0,4</td>\n      <td>22791</td>\n      <td>эвервесс лемон лайм б л мал 0 4</td>\n      <td>[[0.08240431547164917, -0.04213714227080345, 0...</td>\n    </tr>\n    <tr>\n      <th>96</th>\n      <td>Эвервесс Блэк Роял стандарт 0,5</td>\n      <td>22731</td>\n      <td>эвервесс блэк роял стандарт 0 5</td>\n      <td>[[0.1579657644033432, -0.06081263720989227, -0...</td>\n    </tr>\n    <tr>\n      <th>97</th>\n      <td>Креветки (6 шт.)</td>\n      <td>22478</td>\n      <td>креветки 6 шт</td>\n      <td>[[-0.3648184537887573, 0.17309388518333435, -0...</td>\n    </tr>\n    <tr>\n      <th>98</th>\n      <td>Латте (СТАНД.)</td>\n      <td>22140</td>\n      <td>латте станд</td>\n      <td>[[0.08641330897808075, -0.1510659009218216, 0....</td>\n    </tr>\n    <tr>\n      <th>99</th>\n      <td>Up Латте (СТАНД.)</td>\n      <td>22139</td>\n      <td>латте станд</td>\n      <td>[[0.08641330897808075, -0.1510659009218216, 0....</td>\n    </tr>\n  </tbody>\n</table>\n<p>100 rows × 4 columns</p>\n</div>"
     },
     "execution_count": 10,
     "metadata": {},
     "output_type": "execute_result"
    }
   ],
   "source": [
    "menu.head(100)"
   ],
   "metadata": {
    "collapsed": false,
    "ExecuteTime": {
     "end_time": "2023-11-25T09:29:58.564984Z",
     "start_time": "2023-11-25T09:29:58.558281Z"
    }
   },
   "id": "a4ac166088589464"
  },
  {
   "cell_type": "code",
   "execution_count": null,
   "outputs": [],
   "source": [],
   "metadata": {
    "collapsed": false
   },
   "id": "128154e1a07f91dc"
  }
 ],
 "metadata": {
  "kernelspec": {
   "display_name": "Python 3",
   "language": "python",
   "name": "python3"
  },
  "language_info": {
   "codemirror_mode": {
    "name": "ipython",
    "version": 2
   },
   "file_extension": ".py",
   "mimetype": "text/x-python",
   "name": "python",
   "nbconvert_exporter": "python",
   "pygments_lexer": "ipython2",
   "version": "2.7.6"
  }
 },
 "nbformat": 4,
 "nbformat_minor": 5
}
