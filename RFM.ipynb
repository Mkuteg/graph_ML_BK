{
 "cells": [
  {
   "cell_type": "code",
   "execution_count": 1,
   "id": "initial_id",
   "metadata": {
    "collapsed": true,
    "ExecuteTime": {
     "end_time": "2023-11-25T10:00:48.607456Z",
     "start_time": "2023-11-25T10:00:48.605556Z"
    }
   },
   "outputs": [],
   "source": [
    "import re\n",
    "\n",
    "import pandas as pd"
   ]
  },
  {
   "cell_type": "code",
   "execution_count": 2,
   "outputs": [],
   "source": [
    "train = pd.read_csv('data/hackaton2023_train.csv')\n",
    "test = pd.read_csv('data/hackaton2023_test.csv')"
   ],
   "metadata": {
    "collapsed": false,
    "ExecuteTime": {
     "end_time": "2023-11-25T10:01:02.037008Z",
     "start_time": "2023-11-25T10:00:48.607087Z"
    }
   },
   "id": "b2a3a45e122f3f47"
  },
  {
   "cell_type": "code",
   "execution_count": 3,
   "outputs": [],
   "source": [
    "train['id_restoran'] = train.agg('{0[format_name]} {0[ownareaall_sqm]}'.format, axis=1)\n",
    "test['id_restoran'] = test.agg('{0[format_name]} {0[ownareaall_sqm]}'.format, axis=1)"
   ],
   "metadata": {
    "collapsed": false,
    "ExecuteTime": {
     "end_time": "2023-11-25T10:02:36.142274Z",
     "start_time": "2023-11-25T10:01:02.963272Z"
    }
   },
   "id": "814664212b99ae4c"
  },
  {
   "cell_type": "code",
   "execution_count": 6,
   "outputs": [],
   "source": [
    "tr_df = train[['customer_id', 'startdatetime', 'dish_name', 'revenue', 'id_restoran']]\n",
    "ts_df = test[['customer_id', 'startdatetime', 'dish_name', 'revenue', 'id_restoran']]\n",
    "\n",
    "data_cheki = pd.concat([tr_df, ts_df])\n",
    "\n",
    "data_cheki['startdatetime'] = pd.to_datetime(data_cheki['startdatetime'])\n",
    "\n",
    "data_cheki['startdate'] = data_cheki['startdatetime'].dt.date"
   ],
   "metadata": {
    "collapsed": false,
    "ExecuteTime": {
     "end_time": "2023-11-25T10:03:11.082663Z",
     "start_time": "2023-11-25T10:03:02.299077Z"
    }
   },
   "id": "4fb1200d013fe906"
  },
  {
   "cell_type": "code",
   "execution_count": 7,
   "outputs": [],
   "source": [
    "groupby_data_cheki = data_cheki.groupby(['startdate', 'id_restoran', 'customer_id']).agg(\n",
    "    {'revenue': ['median', 'sum', 'count']}).reset_index()\n",
    "\n",
    "groupby_data_cheki.columns = ['date', 'id_restoran', 'customer_id', 'median', 'sum', 'count']"
   ],
   "metadata": {
    "collapsed": false,
    "ExecuteTime": {
     "end_time": "2023-11-25T10:03:15.593714Z",
     "start_time": "2023-11-25T10:03:11.154603Z"
    }
   },
   "id": "cb17b72d810b51d2"
  },
  {
   "cell_type": "code",
   "execution_count": 8,
   "outputs": [
    {
     "data": {
      "text/plain": "       median     sum  count\n0.25   59.990  250.99    2.0\n0.50   90.485  405.99    4.0\n0.75  129.990  689.95    7.0",
      "text/html": "<div>\n<style scoped>\n    .dataframe tbody tr th:only-of-type {\n        vertical-align: middle;\n    }\n\n    .dataframe tbody tr th {\n        vertical-align: top;\n    }\n\n    .dataframe thead th {\n        text-align: right;\n    }\n</style>\n<table border=\"1\" class=\"dataframe\">\n  <thead>\n    <tr style=\"text-align: right;\">\n      <th></th>\n      <th>median</th>\n      <th>sum</th>\n      <th>count</th>\n    </tr>\n  </thead>\n  <tbody>\n    <tr>\n      <th>0.25</th>\n      <td>59.990</td>\n      <td>250.99</td>\n      <td>2.0</td>\n    </tr>\n    <tr>\n      <th>0.50</th>\n      <td>90.485</td>\n      <td>405.99</td>\n      <td>4.0</td>\n    </tr>\n    <tr>\n      <th>0.75</th>\n      <td>129.990</td>\n      <td>689.95</td>\n      <td>7.0</td>\n    </tr>\n  </tbody>\n</table>\n</div>"
     },
     "execution_count": 8,
     "metadata": {},
     "output_type": "execute_result"
    }
   ],
   "source": [
    "quantiles = groupby_data_cheki[['median', 'sum', 'count']].quantile(q=[0.25, 0.5, 0.75])\n",
    "quantiles.head()"
   ],
   "metadata": {
    "collapsed": false,
    "ExecuteTime": {
     "end_time": "2023-11-25T10:03:15.821673Z",
     "start_time": "2023-11-25T10:03:15.605021Z"
    }
   },
   "id": "7619e84849189016"
  },
  {
   "cell_type": "code",
   "execution_count": 9,
   "outputs": [],
   "source": [
    "# Converting quantiles to a dictionary, easier to use.\n",
    "quantiles = quantiles.to_dict()\n",
    "##  RFM Segmentation ----\n",
    "RFM_Segment = groupby_data_cheki.copy()\n",
    "\n",
    "\n",
    "# Arguments (x = value, p = recency, monetary_value, frequency, k = quartiles dict)\n",
    "def R_Class(x, p, d):\n",
    "    if x <= d[p][0.25]:\n",
    "        return 4\n",
    "    elif x <= d[p][0.50]:\n",
    "        return 3\n",
    "    elif x <= d[p][0.75]:\n",
    "        return 2\n",
    "    else:\n",
    "        return 1\n",
    "\n",
    "\n",
    "# Arguments (x = value, p = recency, monetary_value, frequency, k = quartiles dict)\n",
    "def FM_Class(x, p, d):\n",
    "    if x <= d[p][0.25]:\n",
    "        return 1\n",
    "    elif x <= d[p][0.50]:\n",
    "        return 2\n",
    "    elif x <= d[p][0.75]:\n",
    "        return 3\n",
    "    else:\n",
    "        return 4\n",
    "\n",
    "\n",
    "RFM_Segment['R_Quartile'] = RFM_Segment['median'].apply(R_Class, args=('median', quantiles,))\n",
    "RFM_Segment['F_Quartile'] = RFM_Segment['sum'].apply(FM_Class, args=('sum', quantiles,))\n",
    "RFM_Segment['M_Quartile'] = RFM_Segment['count'].apply(FM_Class, args=('count', quantiles,))\n",
    "RFM_Segment['RFMClass'] = RFM_Segment.R_Quartile.map(str) \\\n",
    "                          + RFM_Segment.F_Quartile.map(str) \\\n",
    "                          + RFM_Segment.M_Quartile.map(str)"
   ],
   "metadata": {
    "collapsed": false,
    "ExecuteTime": {
     "end_time": "2023-11-25T10:03:35.731729Z",
     "start_time": "2023-11-25T10:03:31.639409Z"
    }
   },
   "id": "59f645500a48d00e"
  },
  {
   "cell_type": "code",
   "execution_count": 10,
   "outputs": [
    {
     "data": {
      "text/plain": "               date                              id_restoran  customer_id  \\\n2812120  2023-07-02                Фудкорт без туалета 112.0     22449558   \n2850376  2023-07-10  Отдельно стоящий без внешней зоны 300.0     22449558   \n2880766  2023-07-16  Отдельно стоящий без внешней зоны 300.0     22449558   \n2935600  2023-07-27  Отдельно стоящий без внешней зоны 300.0     22449558   \n\n         median      sum  count  R_Quartile  F_Quartile  M_Quartile RFMClass  \n2812120   19.99  7729.60    190           4           4           4      444  \n2850376  225.00  1249.96      4           1           4           2      142  \n2880766  239.98   239.98      1           1           1           1      111  \n2935600  225.00   889.96      4           1           4           2      142  ",
      "text/html": "<div>\n<style scoped>\n    .dataframe tbody tr th:only-of-type {\n        vertical-align: middle;\n    }\n\n    .dataframe tbody tr th {\n        vertical-align: top;\n    }\n\n    .dataframe thead th {\n        text-align: right;\n    }\n</style>\n<table border=\"1\" class=\"dataframe\">\n  <thead>\n    <tr style=\"text-align: right;\">\n      <th></th>\n      <th>date</th>\n      <th>id_restoran</th>\n      <th>customer_id</th>\n      <th>median</th>\n      <th>sum</th>\n      <th>count</th>\n      <th>R_Quartile</th>\n      <th>F_Quartile</th>\n      <th>M_Quartile</th>\n      <th>RFMClass</th>\n    </tr>\n  </thead>\n  <tbody>\n    <tr>\n      <th>2812120</th>\n      <td>2023-07-02</td>\n      <td>Фудкорт без туалета 112.0</td>\n      <td>22449558</td>\n      <td>19.99</td>\n      <td>7729.60</td>\n      <td>190</td>\n      <td>4</td>\n      <td>4</td>\n      <td>4</td>\n      <td>444</td>\n    </tr>\n    <tr>\n      <th>2850376</th>\n      <td>2023-07-10</td>\n      <td>Отдельно стоящий без внешней зоны 300.0</td>\n      <td>22449558</td>\n      <td>225.00</td>\n      <td>1249.96</td>\n      <td>4</td>\n      <td>1</td>\n      <td>4</td>\n      <td>2</td>\n      <td>142</td>\n    </tr>\n    <tr>\n      <th>2880766</th>\n      <td>2023-07-16</td>\n      <td>Отдельно стоящий без внешней зоны 300.0</td>\n      <td>22449558</td>\n      <td>239.98</td>\n      <td>239.98</td>\n      <td>1</td>\n      <td>1</td>\n      <td>1</td>\n      <td>1</td>\n      <td>111</td>\n    </tr>\n    <tr>\n      <th>2935600</th>\n      <td>2023-07-27</td>\n      <td>Отдельно стоящий без внешней зоны 300.0</td>\n      <td>22449558</td>\n      <td>225.00</td>\n      <td>889.96</td>\n      <td>4</td>\n      <td>1</td>\n      <td>4</td>\n      <td>2</td>\n      <td>142</td>\n    </tr>\n  </tbody>\n</table>\n</div>"
     },
     "execution_count": 10,
     "metadata": {},
     "output_type": "execute_result"
    }
   ],
   "source": [
    "RFM_Segment[RFM_Segment['customer_id']== 22449558] "
   ],
   "metadata": {
    "collapsed": false,
    "ExecuteTime": {
     "end_time": "2023-11-25T10:03:51.081352Z",
     "start_time": "2023-11-25T10:03:51.053506Z"
    }
   },
   "id": "d7ff10f931266693"
  },
  {
   "cell_type": "code",
   "execution_count": 11,
   "outputs": [],
   "source": [
    "RFM_Segment.to_csv(r'RFM_Segment.csv', index=False)"
   ],
   "metadata": {
    "collapsed": false,
    "ExecuteTime": {
     "end_time": "2023-11-25T10:04:13.660323Z",
     "start_time": "2023-11-25T10:04:06.107613Z"
    }
   },
   "id": "3cee096f591167a2"
  },
  {
   "cell_type": "code",
   "execution_count": null,
   "outputs": [],
   "source": [],
   "metadata": {
    "collapsed": false
   },
   "id": "22da5ef027c42629"
  }
 ],
 "metadata": {
  "kernelspec": {
   "display_name": "Python 3",
   "language": "python",
   "name": "python3"
  },
  "language_info": {
   "codemirror_mode": {
    "name": "ipython",
    "version": 2
   },
   "file_extension": ".py",
   "mimetype": "text/x-python",
   "name": "python",
   "nbconvert_exporter": "python",
   "pygments_lexer": "ipython2",
   "version": "2.7.6"
  }
 },
 "nbformat": 4,
 "nbformat_minor": 5
}
